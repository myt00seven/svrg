{
 "cells": [
  {
   "cell_type": "code",
   "execution_count": 14,
   "metadata": {
    "collapsed": true
   },
   "outputs": [],
   "source": [
    "import gzip\n",
    "import pickle\n",
    "import numpy\n",
    "import timeit\n",
    "import theano"
   ]
  },
  {
   "cell_type": "code",
   "execution_count": 15,
   "metadata": {
    "collapsed": true
   },
   "outputs": [],
   "source": [
    "def shared_dataset(data_xy, borrow=True):\n",
    "\n",
    "   data_x, data_y = data_xy\n",
    "   shared_x = theano.shared(numpy.asarray(data_x,\n",
    "                                          dtype=theano.config.floatX),\n",
    "                            borrow=borrow)\n",
    "   shared_y = theano.shared(numpy.asarray(data_y,\n",
    "                                          dtype=theano.config.floatX),\n",
    "                            borrow=borrow)\n",
    "   return shared_x, theano.tensor.cast(shared_y, 'int32')\n",
    "\n"
   ]
  },
  {
   "cell_type": "code",
   "execution_count": 31,
   "metadata": {
    "collapsed": false
   },
   "outputs": [],
   "source": [
    "start_time = timeit.default_timer()\n",
    "DATA_PATH = \"/Users/myt007/git/svrg/ni/\"\n",
    "DATA_PATH = \"\"\n",
    "\n",
    "train_x_raw = gzip.open(DATA_PATH+\"train_x.txt.gz\", 'rb')\n",
    "train_x = pickle.load(train_x_raw)\n",
    "train_y_raw = gzip.open(DATA_PATH+\"train_y.txt.gz\", 'rb')\n",
    "train_y = pickle.load(train_y_raw)\n",
    "test_x_raw = gzip.open(DATA_PATH+\"test_x.txt.gz\", 'rb')\n",
    "test_x = pickle.load(test_x_raw)\n",
    "test_y_raw = gzip.open(DATA_PATH+\"test_y.txt.gz\", 'rb')\n",
    "test_y = pickle.load(test_y_raw)"
   ]
  },
  {
   "cell_type": "code",
   "execution_count": 29,
   "metadata": {
    "collapsed": false
   },
   "outputs": [
    {
     "name": "stdout",
     "output_type": "stream",
     "text": [
      "(494021, 41)\n",
      "(494021,)\n",
      "(311029, 41)\n",
      "(311029,)\n"
     ]
    }
   ],
   "source": [
    "print(train_x.shape)\n",
    "print(train_y.shape)\n",
    "print(test_x.shape)\n",
    "print(test_y.shape)\n"
   ]
  },
  {
   "cell_type": "code",
   "execution_count": 26,
   "metadata": {
    "collapsed": false
   },
   "outputs": [
    {
     "data": {
      "text/plain": [
       "dtype('float32')"
      ]
     },
     "execution_count": 26,
     "metadata": {},
     "output_type": "execute_result"
    }
   ],
   "source": [
    "train_x.dtype"
   ]
  },
  {
   "cell_type": "code",
   "execution_count": 17,
   "metadata": {
    "collapsed": false
   },
   "outputs": [],
   "source": [
    "train_set = (train_x, train_y)\n",
    "valid_set = (train_x, train_y)\n",
    "test_set = (test_x, test_y)\n",
    "\n",
    "train_set_x, train_set_y = shared_dataset(train_set)\n",
    "valid_set_x, valid_set_y = shared_dataset(valid_set)\n",
    "test_set_x, test_set_y = shared_dataset(test_set)"
   ]
  },
  {
   "cell_type": "code",
   "execution_count": 18,
   "metadata": {
    "collapsed": false
   },
   "outputs": [
    {
     "data": {
      "text/plain": [
       "<TensorType(float64, matrix)>"
      ]
     },
     "execution_count": 18,
     "metadata": {},
     "output_type": "execute_result"
    }
   ],
   "source": []
  },
  {
   "cell_type": "code",
   "execution_count": null,
   "metadata": {
    "collapsed": true
   },
   "outputs": [],
   "source": []
  },
  {
   "cell_type": "code",
   "execution_count": null,
   "metadata": {
    "collapsed": false
   },
   "outputs": [],
   "source": []
  },
  {
   "cell_type": "code",
   "execution_count": null,
   "metadata": {
    "collapsed": false
   },
   "outputs": [],
   "source": []
  },
  {
   "cell_type": "code",
   "execution_count": null,
   "metadata": {
    "collapsed": true
   },
   "outputs": [],
   "source": []
  }
 ],
 "metadata": {
  "anaconda-cloud": {},
  "kernelspec": {
   "display_name": "Python [conda root]",
   "language": "python",
   "name": "conda-root-py"
  },
  "language_info": {
   "codemirror_mode": {
    "name": "ipython",
    "version": 2
   },
   "file_extension": ".py",
   "mimetype": "text/x-python",
   "name": "python",
   "nbconvert_exporter": "python",
   "pygments_lexer": "ipython2",
   "version": "2.7.12"
  }
 },
 "nbformat": 4,
 "nbformat_minor": 1
}
